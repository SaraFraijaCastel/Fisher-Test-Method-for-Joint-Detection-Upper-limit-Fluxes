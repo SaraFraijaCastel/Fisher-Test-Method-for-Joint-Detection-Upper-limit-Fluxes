{
 "cells": [
  {
   "cell_type": "code",
   "execution_count": 2,
   "metadata": {},
   "outputs": [],
   "source": [
    "import pandas as pd\n",
    "dir1='/lustre/hawcz01/scratch/userspace/jorgeamontes/GRB_KN/data/ULs/config/Coordinates/PSF_0.15/alfa=2.07/Coordinates_with_Max_Sig_1_00.15.csv'\n",
    "dir2='/lustre/hawcz01/scratch/userspace/jorgeamontes/GRB_KN/data/ULs/config/Coordinates/PSF_0.15/alfa=2.07/Coordinates_with_Max_Sig_2_00.15.csv'\n",
    "z1='/lustre/hawcz01/scratch/userspace/jorgeamontes/GRB_KN/data/ULs/config/Coordinates/PSF_0.3/alfa=2.07/Coordinates_with_Max_Sig_1_00.3.csv'\n",
    "z2='/lustre/hawcz01/scratch/userspace/jorgeamontes/GRB_KN/data/ULs/config/Coordinates/PSF_0.3/alfa=2.07/Coordinates_with_Max_Sig_2_00.3.csv'\n",
    "\n"
   ]
  },
  {
   "cell_type": "code",
   "execution_count": 18,
   "metadata": {},
   "outputs": [],
   "source": [
    "d1=pd.read_csv(dir1)\n",
    "big_1=pd.read_csv(z1)\n",
    "merged=pd.merge(left=d1,right=big_1[['Name','z+pseudo']],on='Name')\n",
    "merged.to_csv(dir1)\n"
   ]
  },
  {
   "cell_type": "code",
   "execution_count": 19,
   "metadata": {},
   "outputs": [],
   "source": [
    "d2=pd.read_csv(dir2)\n",
    "big_2=pd.read_csv(z2)\n",
    "merged=pd.merge(left=d2,right=big_2[['Name','z+pseudo']],on='Name')\n",
    "merged.to_csv(dir2)\n"
   ]
  }
 ],
 "metadata": {
  "kernelspec": {
   "display_name": "threeML",
   "language": "python",
   "name": "python3"
  },
  "language_info": {
   "codemirror_mode": {
    "name": "ipython",
    "version": 3
   },
   "file_extension": ".py",
   "mimetype": "text/x-python",
   "name": "python",
   "nbconvert_exporter": "python",
   "pygments_lexer": "ipython3",
   "version": "3.9.16"
  }
 },
 "nbformat": 4,
 "nbformat_minor": 2
}
