{
 "cells": [
  {
   "cell_type": "code",
   "execution_count": null,
   "metadata": {},
   "outputs": [
    {
     "ename": "SyntaxError",
     "evalue": "invalid syntax (81361410.py, line 76)",
     "output_type": "error",
     "traceback": [
      "\u001b[0;36m  Cell \u001b[0;32mIn[1], line 76\u001b[0;36m\u001b[0m\n\u001b[0;31m    for\u001b[0m\n\u001b[0m        ^\u001b[0m\n\u001b[0;31mSyntaxError\u001b[0m\u001b[0;31m:\u001b[0m invalid syntax\n"
     ]
    }
   ],
   "source": [
    "import os\n",
    "import subprocess\n",
    "import importlib\n",
    "from libraries import script              # script.py con generate_* functions\n",
    "from libraries import coordinate_processing\n",
    "from libraries import ul_script\n",
    "from libraries import ul_plot\n",
    "from libraries import addGRB_nodata\n",
    "from libraries import fisher_library\n",
    "import shutil\n",
    "name='z=0';label='';delta=0\n",
    "bin_size = 0.3\n",
    "spectral_index = 1.5\n",
    "def get_config(name,label,delta):\n",
    "    bin_size =0.3\n",
    "    spectral_index = 1.5\n",
    "    PATH_BASE = '/lustre/hawcz01/scratch/userspace/jorgeamontes/GRB_KN/'\n",
    "    GRB_KN_DIR = PATH_BASE  \n",
    "    GITLAB_DIR = '/lustre/hawcz01/scratch/userspace/jorgeamontes/GitLab_kn_paper/'\n",
    "    config = {\n",
    "        'BASE_DIR': PATH_BASE,\n",
    "        'GRB_KN_DIR': GRB_KN_DIR,\n",
    "        'PATH_BASE': PATH_BASE,\n",
    "        'Delta':delta,\n",
    "        'GITLAB_DIR': GITLAB_DIR,\n",
    "        'GRBsINFO': PATH_BASE + 'data/ULs/config/GRB_List.csv',\n",
    "        'bin_size': bin_size,\n",
    "        'spectral_index': spectral_index,\n",
    "        'PATH_GRBs_Healpix': PATH_BASE + f'data/healpix_maps_{spectral_index}_ER/',\n",
    "        'PATH_GENERAL': PATH_BASE + f'data/ULs/config/Coordinates/PSF_{bin_size}/alfa={spectral_index}/{name}',\n",
    "        'energy_ranges': PATH_BASE + f'config/Energy_ranges_with_pseudoredshift.csv',\n",
    "        'GRBINFO_folder': PATH_BASE + 'data/ULs/config/',\n",
    "        'OUTPUT_folder': PATH_BASE + f'data/ULs/files/PSF_{bin_size}/alfa={spectral_index}/{name}',\n",
    "        'PATH_SH': PATH_BASE + f'data/ULs/codes/PSF_{bin_size}/alfa={spectral_index}/{name}',\n",
    "        'RECALCULATED': PATH_BASE + 'data/corrected/',\n",
    "        'File_1st_transit_coord': PATH_BASE + f'data/ULs/config/Coordinates/PSF_{bin_size}/alfa={spectral_index}/{name}Coordinates_with_Max_Sig_1_0{bin_size}.csv',\n",
    "        'File_2nd_transit_coord': PATH_BASE + f'data/ULs/config/Coordinates/PSF_{bin_size}/alfa={spectral_index}/{name}Coordinates_with_Max_Sig_2_0{bin_size}.csv',\n",
    "        'File_1st_transit': PATH_BASE + f'data/ULs/files/PSF_{bin_size}/alfa={spectral_index}/{name}/UpperLimit_1_Gilmore12Fiducial.csv',\n",
    "        'File_2nd_transit': PATH_BASE + f'data/ULs/files/PSF_{bin_size}/alfa={spectral_index}/{name}/UpperLimit_2_Gilmore12Fiducial.csv',\n",
    "        'EBL_list': ['Franceschini08', 'Gilmore12Fiducial'],\n",
    "        'LABEL_UL_CODE': 'ER',\n",
    "        'LABELS': [f'1{label}', f'2{label}'],\n",
    "        'PATH_LATEX': PATH_BASE + f'/data/ULs/Latex/{name}',\n",
    "        'name':name,\n",
    "        'FORCE_BINSIZE':False,\n",
    "        'name_z':'z+pseudo',\n",
    "        'limit_redshift':0.5\n",
    "        }    \n",
    "    return(config)\n",
    "def main ():\n",
    "    config=get_config(name,label,delta)\n",
    "    PATH_GRBs_Healpix = config['PATH_GRBs_Healpix']\n",
    "    # # Forzar recarga del módulo script por seguridad\n",
    "    importlib.reload(script)\n",
    "    # Generar scripts .sh para todos los GRBs y ejecutarlos\n",
    "    script.generate_scripts_for_all_grbs(bin_size, PATH_GRBs_Healpix, config)\n",
    "    script.generate_batch_sender(bin_size, config)\n",
    "    PATH_CODES = os.path.join(config['PATH_GENERAL'], 'scripts')\n",
    "    batch_script = os.path.join(PATH_CODES, f'BatchSenderMax_{bin_size}.sh')\n",
    "    subprocess.run([\"bash\", batch_script])\n",
    "\n",
    "    # # Procesar coordenadas y generar CSV combinados\n",
    "    coordinate_processing.process_coordinates(config)\n",
    "\n",
    "    # (Opcional) Ejecutar scripts de UL y graficar\n",
    "    # ul_script.run_ul_scripts(config)\n",
    "    # ul_plot.generate_upper_limits_plots(config)\n",
    "\n",
    "    # # (Opcional) Ejecutar test de Fisher    \n",
    "    # all_data, X2, dof, p_comb, z, p_norm = fisher_library.run_fisher_test(config)\n",
    "    # fisher_library.generate_latex_report(all_data, X2, dof, p_comb, z, p_norm, config,bin_size)\n",
    "    \n",
    "\n",
    "if __name__ == '__main__':\n",
    "    main()"
   ]
  },
  {
   "cell_type": "code",
   "execution_count": null,
   "metadata": {},
   "outputs": [],
   "source": [
    "# import pandas as pd\n",
    "# config=get_config(name,label,delta)\n",
    "# # file_1_1='/lustre/hawcz01/scratch/userspace/jorgeamontes/GRB_KN/data/ULs/files/PSF_0.3/alfa=2.07/pseudo/UpperLimit_1_Franceschini08.csv'\n",
    "# # GRBs_INFO='/lustre/hawcz01/scratch/userspace/jorgeamontes/GRB_KN/data/ULs/config/GRB_List.csv'\n",
    "# file_1_1=config['File_1st_transit']\n",
    "# GRBS_INFO=config['GRBsINFO']\n",
    "# # file_1=pd.read_csv(file_1_1,sep='\\s+',names=['Name','Spectrum','TS','Significance','Flux', 'lowerErr',   'upperErr' , 'lowerBound ', 'upperBound'])\n",
    "# file_1=pd.read_csv(file_1_1)\n",
    "# file_1"
   ]
  },
  {
   "cell_type": "code",
   "execution_count": null,
   "metadata": {},
   "outputs": [],
   "source": []
  },
  {
   "cell_type": "markdown",
   "metadata": {},
   "source": []
  },
  {
   "cell_type": "code",
   "execution_count": null,
   "metadata": {},
   "outputs": [],
   "source": []
  },
  {
   "cell_type": "code",
   "execution_count": null,
   "metadata": {},
   "outputs": [],
   "source": []
  },
  {
   "cell_type": "code",
   "execution_count": null,
   "metadata": {},
   "outputs": [],
   "source": []
  },
  {
   "cell_type": "code",
   "execution_count": null,
   "metadata": {},
   "outputs": [],
   "source": []
  },
  {
   "cell_type": "code",
   "execution_count": null,
   "metadata": {},
   "outputs": [],
   "source": []
  },
  {
   "cell_type": "code",
   "execution_count": null,
   "metadata": {},
   "outputs": [],
   "source": []
  }
 ],
 "metadata": {
  "kernelspec": {
   "display_name": "3ML",
   "language": "python",
   "name": "python3"
  },
  "language_info": {
   "codemirror_mode": {
    "name": "ipython",
    "version": 3
   },
   "file_extension": ".py",
   "mimetype": "text/x-python",
   "name": "python",
   "nbconvert_exporter": "python",
   "pygments_lexer": "ipython3",
   "version": "3.11.7"
  }
 },
 "nbformat": 4,
 "nbformat_minor": 2
}
