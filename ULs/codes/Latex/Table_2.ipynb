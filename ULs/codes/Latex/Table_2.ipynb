{
 "cells": [
  {
   "cell_type": "code",
   "execution_count": 1,
   "metadata": {},
   "outputs": [],
   "source": [
    "import pandas as pd\n",
    "from functools import reduce \n"
   ]
  },
  {
   "cell_type": "code",
   "execution_count": 2,
   "metadata": {},
   "outputs": [],
   "source": [
    "DF1_dir='/lustre/hawcz01/scratch/userspace/jorgeamontes/GRB_KN/data/ULs/Latex/FisherTest/PSF_0.15/2.07/fisher_results_0.15_2.07.tex'\n",
    "DF2_dir='/lustre/hawcz01/scratch/userspace/jorgeamontes/GRB_KN/data/ULs/Latex/FisherTest/PSF_0.3/2.07/fisher_results_0.3_2.07.tex'\n",
    "DF3_dir='/lustre/hawcz01/scratch/userspace/jorgeamontes/GRB_KN/data/ULs/Latex/FisherTest/PSF_0.6/2.07/fisher_results_0.6_2.07.tex'\n",
    "Table='/lustre/hawcz01/scratch/userspace/jorgeamontes/GRB_KN/data/ULs/Latex/Tables_NT/Table_2.txt'\n"
   ]
  },
  {
   "cell_type": "code",
   "execution_count": 3,
   "metadata": {},
   "outputs": [
    {
     "data": {
      "text/plain": [
       "['GRB ',\n",
       " ' Transit ',\n",
       " ' Significance ',\n",
       " ' Significance Corregida ',\n",
       " ' p-value ',\n",
       " ' Corrected p-value ',\n",
       " ' PDF']"
      ]
     },
     "execution_count": 3,
     "metadata": {},
     "output_type": "execute_result"
    }
   ],
   "source": [
    "DF1=pd.read_csv(DF1_dir,sep='&',skiprows=lambda i: i<18 or i>=107)\n",
    "columns=[i.replace('\\\\textbf{','').replace('}','').replace(' \\\\\\\\ \\\\midrule','') for i in DF1.columns]\n",
    "DF1.columns=columns\n",
    "DF2=pd.read_csv(DF2_dir,sep='&',skiprows=lambda i: i<19 or i>=107,names=columns)\n",
    "DF3=pd.read_csv(DF3_dir,sep='&',skiprows=lambda i: i<19 or i>=108,names=columns)\n",
    "columns\n",
    "\n"
   ]
  },
  {
   "cell_type": "code",
   "execution_count": 4,
   "metadata": {},
   "outputs": [
    {
     "data": {
      "text/html": [
       "<div>\n",
       "<style scoped>\n",
       "    .dataframe tbody tr th:only-of-type {\n",
       "        vertical-align: middle;\n",
       "    }\n",
       "\n",
       "    .dataframe tbody tr th {\n",
       "        vertical-align: top;\n",
       "    }\n",
       "\n",
       "    .dataframe thead th {\n",
       "        text-align: right;\n",
       "    }\n",
       "</style>\n",
       "<table border=\"1\" class=\"dataframe\">\n",
       "  <thead>\n",
       "    <tr style=\"text-align: right;\">\n",
       "      <th></th>\n",
       "      <th>GRB</th>\n",
       "      <th>Transit</th>\n",
       "      <th>Significance</th>\n",
       "      <th>Significance Corregida</th>\n",
       "      <th>p-value</th>\n",
       "      <th>Corrected p-value</th>\n",
       "      <th>PDF</th>\n",
       "    </tr>\n",
       "  </thead>\n",
       "  <tbody>\n",
       "    <tr>\n",
       "      <th>0</th>\n",
       "      <td>GRB170222209</td>\n",
       "      <td>1</td>\n",
       "      <td>1.96</td>\n",
       "      <td>1.71</td>\n",
       "      <td>0.9750</td>\n",
       "      <td>0.044010</td>\n",
       "      <td>9.416e-01 \\\\</td>\n",
       "    </tr>\n",
       "    <tr>\n",
       "      <th>1</th>\n",
       "      <td>GRB170403583</td>\n",
       "      <td>1</td>\n",
       "      <td>0.97</td>\n",
       "      <td>0.78</td>\n",
       "      <td>0.8340</td>\n",
       "      <td>0.218900</td>\n",
       "      <td>7.508e-01 \\\\</td>\n",
       "    </tr>\n",
       "    <tr>\n",
       "      <th>2</th>\n",
       "      <td>GRB170826369</td>\n",
       "      <td>1</td>\n",
       "      <td>2.10</td>\n",
       "      <td>1.80</td>\n",
       "      <td>0.9821</td>\n",
       "      <td>0.036020</td>\n",
       "      <td>9.560e-01 \\\\</td>\n",
       "    </tr>\n",
       "    <tr>\n",
       "      <th>3</th>\n",
       "      <td>GRB190515190</td>\n",
       "      <td>1</td>\n",
       "      <td>1.75</td>\n",
       "      <td>1.35</td>\n",
       "      <td>0.9599</td>\n",
       "      <td>0.089190</td>\n",
       "      <td>9.137e-01 \\\\</td>\n",
       "    </tr>\n",
       "    <tr>\n",
       "      <th>4</th>\n",
       "      <td>GRB141205337</td>\n",
       "      <td>1</td>\n",
       "      <td>1.05</td>\n",
       "      <td>1.05</td>\n",
       "      <td>0.8531</td>\n",
       "      <td>0.146900</td>\n",
       "      <td>7.701e-01 \\\\</td>\n",
       "    </tr>\n",
       "    <tr>\n",
       "      <th>...</th>\n",
       "      <td>...</td>\n",
       "      <td>...</td>\n",
       "      <td>...</td>\n",
       "      <td>...</td>\n",
       "      <td>...</td>\n",
       "      <td>...</td>\n",
       "      <td>...</td>\n",
       "    </tr>\n",
       "    <tr>\n",
       "      <th>84</th>\n",
       "      <td>GRB220617772</td>\n",
       "      <td>2</td>\n",
       "      <td>3.12</td>\n",
       "      <td>3.12</td>\n",
       "      <td>0.9991</td>\n",
       "      <td>0.000904</td>\n",
       "      <td>9.969e-01 \\\\</td>\n",
       "    </tr>\n",
       "    <tr>\n",
       "      <th>85</th>\n",
       "      <td>GRB221120895</td>\n",
       "      <td>2</td>\n",
       "      <td>0.94</td>\n",
       "      <td>0.94</td>\n",
       "      <td>0.8264</td>\n",
       "      <td>0.173600</td>\n",
       "      <td>7.435e-01 \\\\</td>\n",
       "    </tr>\n",
       "    <tr>\n",
       "      <th>86</th>\n",
       "      <td>GRB230228244</td>\n",
       "      <td>2</td>\n",
       "      <td>3.10</td>\n",
       "      <td>3.10</td>\n",
       "      <td>0.9990</td>\n",
       "      <td>0.000968</td>\n",
       "      <td>9.967e-01 \\\\</td>\n",
       "    </tr>\n",
       "    <tr>\n",
       "      <th>87</th>\n",
       "      <td>GRB230512269</td>\n",
       "      <td>2</td>\n",
       "      <td>1.49</td>\n",
       "      <td>1.49</td>\n",
       "      <td>0.9319</td>\n",
       "      <td>0.068110</td>\n",
       "      <td>8.685e-01 \\\\</td>\n",
       "    </tr>\n",
       "    <tr>\n",
       "      <th>88</th>\n",
       "      <td>GRB230812790</td>\n",
       "      <td>2</td>\n",
       "      <td>2.09</td>\n",
       "      <td>2.09</td>\n",
       "      <td>0.9817</td>\n",
       "      <td>0.018310</td>\n",
       "      <td>9.551e-01 \\\\</td>\n",
       "    </tr>\n",
       "  </tbody>\n",
       "</table>\n",
       "<p>89 rows × 7 columns</p>\n",
       "</div>"
      ],
      "text/plain": [
       "             GRB    Transit    Significance    Significance Corregida   \\\n",
       "0   GRB170222209           1            1.96                      1.71   \n",
       "1   GRB170403583           1            0.97                      0.78   \n",
       "2   GRB170826369           1            2.10                      1.80   \n",
       "3   GRB190515190           1            1.75                      1.35   \n",
       "4   GRB141205337           1            1.05                      1.05   \n",
       "..            ...        ...             ...                       ...   \n",
       "84  GRB220617772           2            3.12                      3.12   \n",
       "85  GRB221120895           2            0.94                      0.94   \n",
       "86  GRB230228244           2            3.10                      3.10   \n",
       "87  GRB230512269           2            1.49                      1.49   \n",
       "88  GRB230812790           2            2.09                      2.09   \n",
       "\n",
       "     p-value    Corrected p-value             PDF  \n",
       "0      0.9750             0.044010   9.416e-01 \\\\  \n",
       "1      0.8340             0.218900   7.508e-01 \\\\  \n",
       "2      0.9821             0.036020   9.560e-01 \\\\  \n",
       "3      0.9599             0.089190   9.137e-01 \\\\  \n",
       "4      0.8531             0.146900   7.701e-01 \\\\  \n",
       "..        ...                  ...            ...  \n",
       "84     0.9991             0.000904   9.969e-01 \\\\  \n",
       "85     0.8264             0.173600   7.435e-01 \\\\  \n",
       "86     0.9990             0.000968   9.967e-01 \\\\  \n",
       "87     0.9319             0.068110   8.685e-01 \\\\  \n",
       "88     0.9817             0.018310   9.551e-01 \\\\  \n",
       "\n",
       "[89 rows x 7 columns]"
      ]
     },
     "execution_count": 4,
     "metadata": {},
     "output_type": "execute_result"
    }
   ],
   "source": [
    "DF3"
   ]
  },
  {
   "cell_type": "code",
   "execution_count": 5,
   "metadata": {},
   "outputs": [
    {
     "name": "stderr",
     "output_type": "stream",
     "text": [
      "/tmp/ipykernel_2719509/70286953.py:1: SettingWithCopyWarning: \n",
      "A value is trying to be set on a copy of a slice from a DataFrame.\n",
      "Try using .loc[row_indexer,col_indexer] = value instead\n",
      "\n",
      "See the caveats in the documentation: https://pandas.pydata.org/pandas-docs/stable/user_guide/indexing.html#returning-a-view-versus-a-copy\n",
      "  DF_1=DF1[['GRB ',' Transit ']];DF_1[r'$\\sigma_{0.15}$']=DF1[' Significance Corregida ']\n",
      "/tmp/ipykernel_2719509/70286953.py:2: SettingWithCopyWarning: \n",
      "A value is trying to be set on a copy of a slice from a DataFrame.\n",
      "Try using .loc[row_indexer,col_indexer] = value instead\n",
      "\n",
      "See the caveats in the documentation: https://pandas.pydata.org/pandas-docs/stable/user_guide/indexing.html#returning-a-view-versus-a-copy\n",
      "  DF_2=DF2[['GRB ',' Transit ']];DF_2[r'$\\sigma_{0.3}$']=DF2[' Significance Corregida ']\n",
      "/tmp/ipykernel_2719509/70286953.py:3: SettingWithCopyWarning: \n",
      "A value is trying to be set on a copy of a slice from a DataFrame.\n",
      "Try using .loc[row_indexer,col_indexer] = value instead\n",
      "\n",
      "See the caveats in the documentation: https://pandas.pydata.org/pandas-docs/stable/user_guide/indexing.html#returning-a-view-versus-a-copy\n",
      "  DF_3=DF3[['GRB ',' Transit ']];DF_3[r'$\\sigma_{0.6}$']=DF3[' Significance Corregida ']\n"
     ]
    }
   ],
   "source": [
    "DF_1=DF1[['GRB ',' Transit ']];DF_1[r'$\\sigma_{0.15}$']=DF1[' Significance Corregida ']\n",
    "DF_2=DF2[['GRB ',' Transit ']];DF_2[r'$\\sigma_{0.3}$']=DF2[' Significance Corregida ']\n",
    "DF_3=DF3[['GRB ',' Transit ']];DF_3[r'$\\sigma_{0.6}$']=DF3[' Significance Corregida ']\n",
    "dfs=[DF_1,DF_2,DF_3]\n",
    "final_df = reduce(lambda  left,right: pd.merge(left,right,on=['GRB ',' Transit '],\n",
    "                                            how='outer'), dfs)\n",
    "final_df.to_csv('Table_2.csv')"
   ]
  },
  {
   "cell_type": "code",
   "execution_count": 6,
   "metadata": {},
   "outputs": [
    {
     "name": "stderr",
     "output_type": "stream",
     "text": [
      "/tmp/ipykernel_2719509/563495684.py:6: FutureWarning: Setting an item of incompatible dtype is deprecated and will raise in a future error of pandas. Value '-' has dtype incompatible with float64, please explicitly cast to a compatible dtype first.\n",
      "  final.loc[final[r'$\\sigma_{0.15}$']<2.5,r'$\\sigma_{0.15}$']='-'\n",
      "/tmp/ipykernel_2719509/563495684.py:7: FutureWarning: Setting an item of incompatible dtype is deprecated and will raise in a future error of pandas. Value '-' has dtype incompatible with float64, please explicitly cast to a compatible dtype first.\n",
      "  final.loc[final[r'$\\sigma_{0.3}$']<2.5,r'$\\sigma_{0.3}$']='-'\n",
      "/tmp/ipykernel_2719509/563495684.py:8: FutureWarning: Setting an item of incompatible dtype is deprecated and will raise in a future error of pandas. Value '-' has dtype incompatible with float64, please explicitly cast to a compatible dtype first.\n",
      "  final.loc[final[r'$\\sigma_{0.6}$']<2.5,r'$\\sigma_{0.6}$']='-'\n"
     ]
    }
   ],
   "source": [
    "cond1=(final_df[r'$\\sigma_{0.15}$']>=2.5)\n",
    "cond2=(final_df[r'$\\sigma_{0.3}$']>=2.5)\n",
    "cond3=(final_df[r'$\\sigma_{0.6}$']>=2.5)\n",
    "final_df[cond1 | cond2 | cond3]\n",
    "final=final_df[cond1 | cond2 | cond3]\n",
    "final.loc[final[r'$\\sigma_{0.15}$']<2.5,r'$\\sigma_{0.15}$']='-'\n",
    "final.loc[final[r'$\\sigma_{0.3}$']<2.5,r'$\\sigma_{0.3}$']='-'\n",
    "final.loc[final[r'$\\sigma_{0.6}$']<2.5,r'$\\sigma_{0.6}$']='-'\n",
    "nueva_fila = ['GRB170826369',2, '(3.04) 0.98', '(3.04) 0.98', '(3.04) 0.98']\n",
    "nueva_fila_df = pd.DataFrame([nueva_fila], columns=final.columns)\n",
    "# Concatenar ambos DataFrames\n",
    "df = pd.concat([final, nueva_fila_df], ignore_index=True)\n",
    "df.sort_values(by='GRB ',inplace=True)\n",
    "caption='Bursts and the significance of their possible TeV emission, considering a ABS of $\\psfl^{\\circ}$, $\\psf^{\\circ}$, and $\\psfh^{\\circ}$ in second, third, and fourth columns, respectively. The last column indicates the time after the trigger corresponding to the beginning of the transit over the HAWC FOV.'\n",
    "latex_str = df.to_latex(\n",
    "    index=False,               \n",
    "    # caption=caption, \n",
    "    # label='tab:marginalGRBs',\n",
    "    float_format='%.2f',       \n",
    "    column_format='l'+'c'*(len(df.columns)-1),     \n",
    "    bold_rows=False,            \n",
    "    # position='ht!'\n",
    ")\n",
    "latex_table = (\n",
    "    \"\\\\begin{table*}[ht!]\\n\"\n",
    "    \"\\\\centering\\n\"\n",
    "    \"\\\\caption{\" + caption + \"}\\n\"\n",
    "    \"\\\\label{tab:marginalGRBs}\\n\" +\n",
    "    latex_str +\n",
    "    \"\\n\\\\end{table*}\\n\"\n",
    ")\n",
    "\n",
    "with open(Table, \"w\") as f:\n",
    "    f.write(latex_table)"
   ]
  },
  {
   "cell_type": "markdown",
   "metadata": {},
   "source": [
    "latex_str"
   ]
  },
  {
   "cell_type": "code",
   "execution_count": 7,
   "metadata": {},
   "outputs": [
    {
     "data": {
      "text/plain": [
       "(0.8413447460685429, 0.2095375208106932, 0.8080269959030094)"
      ]
     },
     "execution_count": 7,
     "metadata": {},
     "output_type": "execute_result"
    }
   ],
   "source": [
    "from scipy.stats import norm\n",
    "import numpy as np\n",
    "psf=0.35\n",
    "ref_psf=0.3\n",
    "sig=1\n",
    "p_val =norm.cdf(abs(sig))\n",
    "pdf_val =1-norm.pdf(abs(sig))\n",
    "if psf>ref_psf:\n",
    "    trials_factor= (psf**2) / (ref_psf**2)\n",
    "else:\n",
    "    trials_factor=1\n",
    "p_corr = np.power(p_val, trials_factor)\n",
    "sig_corr = norm.ppf(p_corr)\n",
    "p_val, 1-p_corr,sig_corr\n"
   ]
  }
 ],
 "metadata": {
  "kernelspec": {
   "display_name": "3ML",
   "language": "python",
   "name": "python3"
  },
  "language_info": {
   "codemirror_mode": {
    "name": "ipython",
    "version": 3
   },
   "file_extension": ".py",
   "mimetype": "text/x-python",
   "name": "python",
   "nbconvert_exporter": "python",
   "pygments_lexer": "ipython3",
   "version": "3.11.7"
  }
 },
 "nbformat": 4,
 "nbformat_minor": 2
}
