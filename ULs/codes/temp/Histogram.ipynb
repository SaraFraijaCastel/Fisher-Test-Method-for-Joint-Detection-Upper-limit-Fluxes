{
 "cells": [
  {
   "cell_type": "code",
   "execution_count": 81,
   "metadata": {},
   "outputs": [],
   "source": [
    "import pandas as pd\n",
    "import numpy as np\n",
    "import os"
   ]
  },
  {
   "cell_type": "code",
   "execution_count": 82,
   "metadata": {},
   "outputs": [],
   "source": [
    "#1. Csrgar GRBs dsta base\n",
    "#2.Genersr funcion de codigo\n",
    "#3. generar .sh y batchsender\n"
   ]
  },
  {
   "cell_type": "code",
   "execution_count": 83,
   "metadata": {},
   "outputs": [],
   "source": [
    "GRBsINFO='/lustre/hawcz01/scratch/userspace/jorgeamontes/grupo_grbs/kilonova_paper/maps/AutomatizedMaps/CSV_TXT/13final.csv'\n",
    "PATH_GRBs_Healpix='/lustre/hawcz01/scratch/userspace/jorgeamontes/GRB_KN/data/healpix_maps/';label_1st='1';label_2nd='2'\n",
    "PATH_GENERAL='/lustre/hawcz01/scratch/userspace/jorgeamontes/GRB_KN/data/ULs/'\n",
    "GRBs=pd.read_csv(GRBsINFO)\n",
    "global output\n",
    "output='/lustre/hawcz01/scratch/userspace/jorgeamontes/GRB_KN/data/ULs/codes/output.txt'"
   ]
  },
  {
   "cell_type": "code",
   "execution_count": null,
   "metadata": {},
   "outputs": [
    {
     "name": "stdout",
     "output_type": "stream",
     "text": [
      "/lustre/hawcz01/scratch/userspace/jorgeamontes/GRB_KN/data/ULs//HISTOGRAMs_ALL_GRBs\n",
      "/lustre/hawcz01/scratch/userspace/jorgeamontes/GRB_KN/data/ULs//HISTOGRAMs_ALL_GRBs\n",
      "/lustre/hawcz01/scratch/userspace/jorgeamontes/GRB_KN/data/ULs//HISTOGRAMs_ALL_GRBs\n",
      "/lustre/hawcz01/scratch/userspace/jorgeamontes/GRB_KN/data/ULs//HISTOGRAMs_ALL_GRBs\n",
      "/lustre/hawcz01/scratch/userspace/jorgeamontes/GRB_KN/data/ULs//HISTOGRAMs_ALL_GRBs\n",
      "/lustre/hawcz01/scratch/userspace/jorgeamontes/GRB_KN/data/ULs//HISTOGRAMs_ALL_GRBs\n",
      "/lustre/hawcz01/scratch/userspace/jorgeamontes/GRB_KN/data/ULs//HISTOGRAMs_ALL_GRBs\n",
      "/lustre/hawcz01/scratch/userspace/jorgeamontes/GRB_KN/data/ULs//HISTOGRAMs_ALL_GRBs\n",
      "/lustre/hawcz01/scratch/userspace/jorgeamontes/GRB_KN/data/ULs//HISTOGRAMs_ALL_GRBs\n",
      "/lustre/hawcz01/scratch/userspace/jorgeamontes/GRB_KN/data/ULs//HISTOGRAMs_ALL_GRBs\n",
      "/lustre/hawcz01/scratch/userspace/jorgeamontes/GRB_KN/data/ULs//HISTOGRAMs_ALL_GRBs\n",
      "/lustre/hawcz01/scratch/userspace/jorgeamontes/GRB_KN/data/ULs//HISTOGRAMs_ALL_GRBs\n",
      "/lustre/hawcz01/scratch/userspace/jorgeamontes/GRB_KN/data/ULs//HISTOGRAMs_ALL_GRBs\n",
      "/lustre/hawcz01/scratch/userspace/jorgeamontes/GRB_KN/data/ULs//HISTOGRAMs_ALL_GRBs\n",
      "/lustre/hawcz01/scratch/userspace/jorgeamontes/GRB_KN/data/ULs//HISTOGRAMs_ALL_GRBs\n",
      "/lustre/hawcz01/scratch/userspace/jorgeamontes/GRB_KN/data/ULs//HISTOGRAMs_ALL_GRBs\n",
      "/lustre/hawcz01/scratch/userspace/jorgeamontes/GRB_KN/data/ULs//HISTOGRAMs_ALL_GRBs\n",
      "/lustre/hawcz01/scratch/userspace/jorgeamontes/GRB_KN/data/ULs//HISTOGRAMs_ALL_GRBs\n",
      "/lustre/hawcz01/scratch/userspace/jorgeamontes/GRB_KN/data/ULs//HISTOGRAMs_ALL_GRBs\n",
      "/lustre/hawcz01/scratch/userspace/jorgeamontes/GRB_KN/data/ULs//HISTOGRAMs_ALL_GRBs\n",
      "/lustre/hawcz01/scratch/userspace/jorgeamontes/GRB_KN/data/ULs//HISTOGRAMs_ALL_GRBs\n",
      "/lustre/hawcz01/scratch/userspace/jorgeamontes/GRB_KN/data/ULs//HISTOGRAMs_ALL_GRBs\n",
      "/lustre/hawcz01/scratch/userspace/jorgeamontes/GRB_KN/data/ULs//HISTOGRAMs_ALL_GRBs\n",
      "/lustre/hawcz01/scratch/userspace/jorgeamontes/GRB_KN/data/ULs//HISTOGRAMs_ALL_GRBs\n",
      "/lustre/hawcz01/scratch/userspace/jorgeamontes/GRB_KN/data/ULs//HISTOGRAMs_ALL_GRBs\n",
      "/lustre/hawcz01/scratch/userspace/jorgeamontes/GRB_KN/data/ULs//HISTOGRAMs_ALL_GRBs\n",
      "/lustre/hawcz01/scratch/userspace/jorgeamontes/GRB_KN/data/ULs//HISTOGRAMs_ALL_GRBs\n",
      "/lustre/hawcz01/scratch/userspace/jorgeamontes/GRB_KN/data/ULs//HISTOGRAMs_ALL_GRBs\n"
     ]
    }
   ],
   "source": [
    "GRBsINFO='/lustre/hawcz01/scratch/userspace/jorgeamontes/grupo_grbs/kilonova_paper/maps/AutomatizedMaps/CSV_TXT/13final.csv'\n",
    "PATH_GRBs_Healpix='/lustre/hawcz01/scratch/userspace/jorgeamontes/GRB_KN/data/healpix_maps/';label_1st='1';label_2nd='2'\n",
    "PATH_GENERAL='/lustre/hawcz01/scratch/userspace/jorgeamontes/GRB_KN/data/ULs/'\n",
    "GRBs=pd.read_csv(GRBsINFO)\n",
    "global output\n",
    "output='/lustre/hawcz01/scratch/userspace/jorgeamontes/GRB_KN/data/ULs/codes/output.txt'\n",
    "def CODE(grb,Ra,Dec,bin_Size,path,label):\n",
    "    PATH_GRBs=path+'/'+grb+'/'\n",
    "    os.makedirs(PATH_GENERAL+'/HISTOGRAMs_ALL_GRBs',exist_ok=True)\n",
    "    hist_path=PATH_GENERAL+'/HISTOGRAMs_ALL_GRBs'\n",
    "    print(hist_path)\n",
    "    bin_size=max(bin_Size,GRBs[GRBs['Name']==grb]['Error_Radius'].values[0])\n",
    "    code=f\"\"\"#! /usr/bin/env bash\n",
    "#SBATCH --mem-per-cpu=4GB\n",
    "#SBATCH -o {PATH_GRBs}/{grb}/maps/codes/HIST.out\n",
    "#SBATCH --mail-type=all\n",
    "#SBATCH --mail-user=smfraijac@astro.unam.mx\n",
    "#SBATCH -J UL{grb}\n",
    "#Author: Sara_Fraija\n",
    "source /data/disk01/home/smfraijac/.bashrc\n",
    "hawc_aerie\n",
    "Label=1\n",
    "GRB={grb}_${{Label}}\n",
    "RA={Ra}\n",
    "DEC={Dec}\n",
    "Input_path={PATH_GRBs}\n",
    "Hist_path={hist_path}\n",
    "Bin_size={bin_size}\n",
    "output_file={hist_path}/{grb}_PSF_{bin_size}_Hist${{Label}}.txt\n",
    "max_output_file={PATH_GENERAL}/MaxSigHist_{bin_size}_${{Label}}.txt\n",
    "rm -f output_file\n",
    "# makeSignificanceHistogram.py {PATH_GRBs}/transit_1/{grb}_transit_1.fits.gz --ra {Ra} --dec {Dec} --includeArea --binsize {bin_size} --batch -o {hist_path}/{grb}.png>> $output_file\n",
    "PL=$(makeSignificanceHistogram.py {PATH_GRBs}/transit_1/{grb}_transit_1.fits.gz --ra ${{RA}} --dec ${{DEC}} --includeArea --batch --binsize ${{Bin_size}} -o ${{Hist_path}}/${{GRB}}.png)\n",
    "echo -e ${{PL}}\" > $output_file\\n\n",
    "Maxi=$(grep \"Max\" ${{output_file}})\n",
    "echo -e \"{grb},${{Label}},${{Maxi}}\" >> $max_output_file\n",
    "####################################################\n",
    "Label_2=2\n",
    "GRB={grb}_${{Label_2}}\n",
    "Hist_path={hist_path}\n",
    "Bin_size={bin_size}\n",
    "output_file={hist_path}/{grb}_PSF_{bin_size}_Hist${{Label_2}}.txt\n",
    "max_output_file={hist_path}/MaxSigHist_{bin_size}_${{Label_2}}.txt\n",
    "rm -f output_file\n",
    "# makeSignificanceHistogram.py {PATH_GRBs}/transit_2/{grb}_transit_2.fits.gz --ra {Ra} --dec {Dec} --includeArea --binsize {bin_size} --batch -o {hist_path}/{grb}.png>> $output_file\n",
    "PL=$(makeSignificanceHistogram.py {PATH_GRBs}/transit_2/{grb}_transit_2.fits.gz --ra ${{RA}} --dec ${{DEC}} --includeArea --batch --binsize ${{Bin_size}} -o ${{Hist_path}}/${{GRB}}.png)\n",
    "echo -e ${{PL}}\" > $output_file\\n\n",
    "Maxi=$(grep \"Max\" ${{output_file}})\n",
    "echo -e \"{grb},${{Label_2}},${{Maxi}}\" >> $max_output_file\n",
    "\"\"\"\n",
    "    return(code)\n",
    "def file_creator(CONTENT,GRB,file_path,label,bin_size):\n",
    "    file=PATH_GENERAL+f'/codes/HistogramSig{GRB}'+label+str(bin_size)+'.sh'\n",
    "    with open(file,'w') as file2:\n",
    "        file2.write(CONTENT)\n",
    "def Nose(bin_Size,path,label):\n",
    "    for grb in GRBs['Name']:\n",
    "        Ra=GRBs[GRBs['Name']==grb]['Ra'].values[0]\n",
    "        Dec=GRBs[GRBs['Name']==grb]['Dec'].values[0]\n",
    "        code=CODE(grb,Ra,Dec,bin_Size,path,label)\n",
    "        file_creator(code,grb,path,label,bin_Size) \n",
    "def BatchSender(PATH_grbs,label,bin_size):\n",
    "    sbatch='sh '\n",
    "    Path2=f'/codes/HistogramSig{GRB}'+label+str(bin_size)+'.sh'\n",
    "    file_path=PATH_GENERAL+f'/BatchSenderHistogram'+str(bin_size)+'.sh'\n",
    "    List=[sbatch+PATH_grbs+'/'+i+Path2 +'\\n'  for i in GRBs['Name']]\n",
    "    os.remove(file_path)\n",
    "    with open(file_path, 'w+') as bash_file:     \n",
    "        bash_file.write('rm -f {PATH_GENERAL}/MaxSigHist_{bin_size}_{label}.txt')  \n",
    "        for i in List:\n",
    "          bash_file.write(i)                 \n",
    "# def remove(grb,path):\n",
    "#     PATH_GRBs=path+'/'+grb+'/maps/Healpix'\n",
    "#     os.rmdir(PATH_GRBs+'/HISTOGRAMs_ALL_GRBs')  \n",
    "Nose(0.6,PATH_GRBs_Healpix,label_1st)\n",
    "Nose(0.6,PATH_GRBs_Healpix,label_2nd)\n",
    "# BatchSender(PATH_GENERAL,label_2nd,0.6)\n",
    "# Nose(0.2,PATH_GRBs_2nd_Transit,label_2nd)                                                                                                             \n",
    "# Nose(0.1,PATH_GRBs_1st_Transit,label_1st)\n",
    "# Nose(0.1,PATH_GRBs_2nd_Transit,label_2nd)\n",
    "# Nose(0.05,PATH_GRBs_1st_Transit,label_1st)\n",
    "# Nose(0.05,PATH_GRBs_2nd_Transit,label_2nd)\n",
    "# for i in [0.05,0.1,0.2]:\n",
    "#     BatchSender(PATH_GRBs_1st_Transit,label_1st,i)\n",
    "    # BatchSender(PATH_GRBs_2nd_Transit,label_2nd,i)\n",
    "\n",
    "\n",
    "                                                                                                                                             \n"
   ]
  },
  {
   "cell_type": "markdown",
   "metadata": {},
   "source": []
  },
  {
   "cell_type": "code",
   "execution_count": null,
   "metadata": {},
   "outputs": [],
   "source": []
  },
  {
   "cell_type": "code",
   "execution_count": 85,
   "metadata": {},
   "outputs": [
    {
     "data": {
      "text/plain": [
       "0.05"
      ]
     },
     "execution_count": 85,
     "metadata": {},
     "output_type": "execute_result"
    }
   ],
   "source": [
    "grb='GRB150110923'\n",
    "GRBs[GRBs['Name']==grb]['Error_Radius'].values[0]"
   ]
  }
 ],
 "metadata": {
  "kernelspec": {
   "display_name": "3ML",
   "language": "python",
   "name": "python3"
  },
  "language_info": {
   "codemirror_mode": {
    "name": "ipython",
    "version": 3
   },
   "file_extension": ".py",
   "mimetype": "text/x-python",
   "name": "python",
   "nbconvert_exporter": "python",
   "pygments_lexer": "ipython3",
   "version": "3.11.7"
  }
 },
 "nbformat": 4,
 "nbformat_minor": 2
}
