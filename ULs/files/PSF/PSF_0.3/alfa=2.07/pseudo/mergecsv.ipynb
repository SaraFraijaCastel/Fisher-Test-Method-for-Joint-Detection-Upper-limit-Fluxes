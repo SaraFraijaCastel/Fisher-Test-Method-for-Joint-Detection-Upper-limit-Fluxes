{
 "cells": [
  {
   "cell_type": "code",
   "execution_count": 1,
   "metadata": {},
   "outputs": [],
   "source": [
    "import pandas as pd\n",
    "import os\n",
    "\n",
    "# Ruta a la carpeta con los CSVs\n",
    "carpeta = \"/lustre/hawcz01/scratch/userspace/jorgeamontes/GRB_KN/data/ULs/files/PSF_0.3/alfa=2.07/pseudo\"\n",
    "starts_list=['UpperLimit_1_Franceschini08','UpperLimit_2_Franceschini08','UpperLimit_1_Gilmore12Fiducial','UpperLimit_2_Gilmore12Fiducial']\n",
    "# Lista para guardar los DataFrames\n",
    "for starts in starts_list:\n",
    "    dataframes = []\n",
    "    file_path=starts+'.csv'\n",
    "    if os.path.exists(file_path):\n",
    "        os.remove(file_path)\n",
    "    # Iterar sobre todos los archivos en la carpeta\n",
    "    for archivo in os.listdir(carpeta) :\n",
    "        if archivo.endswith(\".csv\") and archivo.startswith(starts):\n",
    "            ruta_archivo = os.path.join(carpeta, archivo)\n",
    "            df = pd.read_csv(ruta_archivo,sep='\\s+',names=['Name','Spectrum','TS', 'sqrt(TS)','flux','lowerErr','upperErr','lowerBound','upperBound'])\n",
    "            dataframes.append(df)\n",
    "            \n",
    "    # Concatenar todos los DataFrames\n",
    "    df_unido = pd.concat(dataframes, ignore_index=True)\n",
    "\n",
    "    # Guardar en un nuevo CSV\n",
    "    df_unido.to_csv(file_path,sep=' ', index=False, header=False)"
   ]
  }
 ],
 "metadata": {
  "kernelspec": {
   "display_name": "threeML",
   "language": "python",
   "name": "python3"
  },
  "language_info": {
   "codemirror_mode": {
    "name": "ipython",
    "version": 3
   },
   "file_extension": ".py",
   "mimetype": "text/x-python",
   "name": "python",
   "nbconvert_exporter": "python",
   "pygments_lexer": "ipython3",
   "version": "3.9.16"
  }
 },
 "nbformat": 4,
 "nbformat_minor": 2
}
